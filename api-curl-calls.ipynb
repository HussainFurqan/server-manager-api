{
 "cells": [
  {
   "cell_type": "code",
   "execution_count": 1,
   "metadata": {},
   "outputs": [],
   "source": [
    "import subprocess, json\n",
    "\n",
    "BASE = \"http://127.0.0.1:18080\"\n",
    "\n",
    "def call_api(path: str, method: str = \"GET\", body: dict | None = None):\n",
    "    url = f\"{BASE}{path if path.startswith('/') else '/' + path}\"\n",
    "    args = [\"curl\", \"-s\", \"-X\", method, url, \"-H\", \"Content-Type: application/json\"]\n",
    "    if body is not None:\n",
    "        args += [\"-d\", json.dumps(body)]\n",
    "    result = subprocess.run(args, capture_output=True, text=True)\n",
    "    raw = result.stdout.strip()\n",
    "    try:\n",
    "        print(json.dumps(json.loads(raw), indent=2))\n",
    "    except json.JSONDecodeError:\n",
    "        print(raw)\n"
   ]
  },
  {
   "cell_type": "code",
   "execution_count": 2,
   "metadata": {},
   "outputs": [
    {
     "name": "stdout",
     "output_type": "stream",
     "text": [
      "{\n",
      "  \"status\": \"ok\"\n",
      "}\n"
     ]
    }
   ],
   "source": [
    "call_api(\"/health\")"
   ]
  },
  {
   "cell_type": "code",
   "execution_count": 3,
   "metadata": {},
   "outputs": [
    {
     "name": "stdout",
     "output_type": "stream",
     "text": [
      "{\n",
      "  \"ok\": true,\n",
      "  \"db_time\": \"2025-08-31T22:14:07.332052+02:00\"\n",
      "}\n"
     ]
    }
   ],
   "source": [
    "call_api(\"/db-check\")"
   ]
  },
  {
   "cell_type": "code",
   "execution_count": 10,
   "metadata": {},
   "outputs": [
    {
     "name": "stdout",
     "output_type": "stream",
     "text": [
      "[\n",
      "  {\n",
      "    \"id\": 1,\n",
      "    \"hostname\": \"myserver.local.lan\",\n",
      "    \"configuration\": {},\n",
      "    \"datacenter_id\": 1,\n",
      "    \"created_at\": \"2024-05-28T11:39:01.516030\",\n",
      "    \"modified_at\": \"2024-05-28T11:39:01.516030\"\n",
      "  },\n",
      "  {\n",
      "    \"id\": 2,\n",
      "    \"hostname\": \"database.local.lan\",\n",
      "    \"configuration\": {\n",
      "      \"user_limit\": 10,\n",
      "      \"max_connections\": 500\n",
      "    },\n",
      "    \"datacenter_id\": 2,\n",
      "    \"created_at\": \"2024-05-28T11:40:13.349528\",\n",
      "    \"modified_at\": \"2024-05-28T11:40:13.349528\"\n",
      "  },\n",
      "  {\n",
      "    \"id\": 3,\n",
      "    \"hostname\": \"rabbitmq.local.lan\",\n",
      "    \"configuration\": {\n",
      "      \"max_queues\": 1234\n",
      "    },\n",
      "    \"datacenter_id\": 2,\n",
      "    \"created_at\": \"2024-05-28T11:41:14.626643\",\n",
      "    \"modified_at\": \"2024-05-28T11:41:14.626643\"\n",
      "  },\n",
      "  {\n",
      "    \"id\": 4,\n",
      "    \"hostname\": \"db2.local.lan\",\n",
      "    \"configuration\": {\n",
      "      \"user_limit\": 999,\n",
      "      \"max_connections\": 900\n",
      "    },\n",
      "    \"datacenter_id\": 1,\n",
      "    \"created_at\": \"2025-08-30T20:09:40.245498\",\n",
      "    \"modified_at\": \"2025-08-31T20:15:00.962519\"\n",
      "  },\n",
      "  {\n",
      "    \"id\": 9,\n",
      "    \"hostname\": \"api1.local.lan\",\n",
      "    \"configuration\": {\n",
      "      \"user_limit\": 20\n",
      "    },\n",
      "    \"datacenter_id\": 1,\n",
      "    \"created_at\": \"2025-08-31T20:14:22.982573\",\n",
      "    \"modified_at\": \"2025-08-31T20:14:22.982573\"\n",
      "  }\n",
      "]\n"
     ]
    }
   ],
   "source": [
    "call_api(\"/servers\")"
   ]
  },
  {
   "cell_type": "code",
   "execution_count": 5,
   "metadata": {},
   "outputs": [
    {
     "name": "stdout",
     "output_type": "stream",
     "text": [
      "[\n",
      "  {\n",
      "    \"id\": 2,\n",
      "    \"hostname\": \"database.local.lan\",\n",
      "    \"configuration\": {\n",
      "      \"user_limit\": 10,\n",
      "      \"max_connections\": 500\n",
      "    },\n",
      "    \"datacenter_id\": 2,\n",
      "    \"created_at\": \"2024-05-28T11:40:13.349528\",\n",
      "    \"modified_at\": \"2024-05-28T11:40:13.349528\"\n",
      "  },\n",
      "  {\n",
      "    \"id\": 3,\n",
      "    \"hostname\": \"rabbitmq.local.lan\",\n",
      "    \"configuration\": {\n",
      "      \"max_queues\": 1234\n",
      "    },\n",
      "    \"datacenter_id\": 2,\n",
      "    \"created_at\": \"2024-05-28T11:41:14.626643\",\n",
      "    \"modified_at\": \"2024-05-28T11:41:14.626643\"\n",
      "  }\n",
      "]\n"
     ]
    }
   ],
   "source": [
    "call_api(\"/servers?datacenter_id=2&sort=hostname\")"
   ]
  },
  {
   "cell_type": "code",
   "execution_count": 6,
   "metadata": {},
   "outputs": [
    {
     "name": "stdout",
     "output_type": "stream",
     "text": [
      "{\n",
      "  \"id\": 2,\n",
      "  \"hostname\": \"database.local.lan\",\n",
      "  \"configuration\": {\n",
      "    \"user_limit\": 10,\n",
      "    \"max_connections\": 500\n",
      "  },\n",
      "  \"datacenter_id\": 2,\n",
      "  \"created_at\": \"2024-05-28T11:40:13.349528\",\n",
      "  \"modified_at\": \"2024-05-28T11:40:13.349528\"\n",
      "}\n"
     ]
    }
   ],
   "source": [
    "call_api(\"/servers/2\")"
   ]
  },
  {
   "cell_type": "code",
   "execution_count": 7,
   "metadata": {},
   "outputs": [
    {
     "name": "stdout",
     "output_type": "stream",
     "text": [
      "{\n",
      "  \"id\": 9,\n",
      "  \"hostname\": \"api1.local.lan\",\n",
      "  \"configuration\": {\n",
      "    \"user_limit\": 20\n",
      "  },\n",
      "  \"datacenter_id\": 1,\n",
      "  \"created_at\": \"2025-08-31T20:14:22.982573\",\n",
      "  \"modified_at\": \"2025-08-31T20:14:22.982573\"\n",
      "}\n"
     ]
    }
   ],
   "source": [
    "# create new record\n",
    "call_api(\"/servers\", method=\"POST\", body={\n",
    "    \"hostname\": \"api1.local.lan\",\n",
    "    \"datacenter_id\": 1,\n",
    "    \"configuration\": {\"user_limit\": 20}\n",
    "})"
   ]
  },
  {
   "cell_type": "code",
   "execution_count": 9,
   "metadata": {},
   "outputs": [
    {
     "name": "stdout",
     "output_type": "stream",
     "text": [
      "{\n",
      "  \"id\": 4,\n",
      "  \"hostname\": \"db2.local.lan\",\n",
      "  \"configuration\": {\n",
      "    \"user_limit\": 999,\n",
      "    \"max_connections\": 900\n",
      "  },\n",
      "  \"datacenter_id\": 1,\n",
      "  \"created_at\": \"2025-08-30T20:09:40.245498\",\n",
      "  \"modified_at\": \"2025-08-31T20:15:00.962519\"\n",
      "}\n"
     ]
    }
   ],
   "source": [
    "# Update just configuration\n",
    "call_api(\"/servers/4\", method=\"PUT\", body={\n",
    "    \"configuration\": {\"user_limit\": 999, \"max_connections\": 900}\n",
    "})\n",
    "\n",
    "# Update hostname and datacenter\n",
    "# call_api(\"/servers/4\", method=\"PUT\", body={\n",
    "#     \"hostname\": \"db2.local.lan\",\n",
    "#     \"datacenter_id\": 1\n",
    "# })\n",
    "\n",
    "# No fields (should 400)\n",
    "# call_api(\"/servers/2\", method=\"PUT\", body={})\n",
    "\n",
    "# Non-existent id (should 404)\n",
    "# call_api(\"/servers/9999\", method=\"PUT\", body={\"hostname\": \"ghost.local.lan\"})"
   ]
  },
  {
   "cell_type": "code",
   "execution_count": 11,
   "metadata": {},
   "outputs": [
    {
     "name": "stdout",
     "output_type": "stream",
     "text": [
      "{\n",
      "  \"deleted_id\": 9\n",
      "}\n"
     ]
    }
   ],
   "source": [
    "# OK delete (pick an ID that isn't linked in switch_to_server)\n",
    "call_api(\"/servers/9\", method=\"DELETE\")\n",
    "\n",
    "# Deleting a non-existent ID -> 404\n",
    "# call_api(\"/servers/9999\", method=\"DELETE\")\n",
    "\n",
    "# If the server is linked to a switch, expect 400 (FK error)\n",
    "# e.g., if 3 is linked in sample data:\n",
    "# call_api(\"/servers/3\", method=\"DELETE\")"
   ]
  },
  {
   "cell_type": "code",
   "execution_count": null,
   "metadata": {},
   "outputs": [],
   "source": []
  }
 ],
 "metadata": {
  "kernelspec": {
   "display_name": ".venv",
   "language": "python",
   "name": "python3"
  },
  "language_info": {
   "codemirror_mode": {
    "name": "ipython",
    "version": 3
   },
   "file_extension": ".py",
   "mimetype": "text/x-python",
   "name": "python",
   "nbconvert_exporter": "python",
   "pygments_lexer": "ipython3",
   "version": "3.12.7"
  }
 },
 "nbformat": 4,
 "nbformat_minor": 2
}
